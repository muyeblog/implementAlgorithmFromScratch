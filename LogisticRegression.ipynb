{
  "nbformat": 4,
  "nbformat_minor": 0,
  "metadata": {
    "colab": {
      "name": "LogisticRegression.ipynb",
      "provenance": [],
      "collapsed_sections": [],
      "authorship_tag": "ABX9TyNx1pSc8rbvj6UqPNroH7C0",
      "include_colab_link": true
    },
    "kernelspec": {
      "name": "python3",
      "display_name": "Python 3"
    },
    "language_info": {
      "name": "python"
    }
  },
  "cells": [
    {
      "cell_type": "markdown",
      "metadata": {
        "id": "view-in-github",
        "colab_type": "text"
      },
      "source": [
        "<a href=\"https://colab.research.google.com/github/muyeblog/implementAlgorithmFromScratch/blob/main/LogisticRegression.ipynb\" target=\"_parent\"><img src=\"https://colab.research.google.com/assets/colab-badge.svg\" alt=\"Open In Colab\"/></a>"
      ]
    },
    {
      "cell_type": "code",
      "source": [
        "# 参看：https://blog.csdn.net/hgnuxc_1993/article/details/114680399"
      ],
      "metadata": {
        "id": "CHb5H0jkRik5"
      },
      "execution_count": null,
      "outputs": []
    },
    {
      "cell_type": "code",
      "execution_count": null,
      "metadata": {
        "id": "m54ezl1T284q"
      },
      "outputs": [],
      "source": [
        "from sklearn.linear_model import LogisticRegression\n",
        "from math import * # 含 exp\n",
        "from sklearn.datasets import load_iris\n",
        "from sklearn.model_selection import train_test_split\n",
        "from numpy import *\n",
        "import numpy as np"
      ]
    },
    {
      "cell_type": "code",
      "source": [
        "class LogisticRegressionClassifier(object):\n",
        "  def __init__(self,eta=0.1,loop=30):\n",
        "    self.eta = eta\n",
        "    self.loop=loop\n",
        "  \n",
        "  def sigmoid(self,x):\n",
        "    return 1.0 / (1 + exp(-x))\n",
        "  \n",
        "  def data_tranforce(self,x_train):\n",
        "    data = []\n",
        "    d = []\n",
        "    for x in x_train: # x 为数组类型\n",
        "      data.append([1.0,*x])  # 将每一行数组增加一个 1.0 的值，对应参数 b，*x 是去掉[]符号,形成一行数值\n",
        "      # c = list(x)  # 将一维数组变成列表\n",
        "      # c.insert(0,1.0) # 这种insert()方法必须是列表\n",
        "      # print(list(x).insert(0,1.0))\n",
        "      # d.append(c) # 类似 d = [[1.0,2,3],[1.0,3,4.8]]\n",
        "    return data\n",
        "  \n",
        "  def fit(self,x_train,y_train):\n",
        "    data_mat = self.data_tranforce(x_train) # 处理每个样本的特征值\n",
        "    n = shape(data_mat)[1]  # 求出 data_mat对应参数的个数\n",
        "    self.weight=ones((n,1)) # 初始化参数w数组\n",
        "    cls = self.loop\n",
        "    for k in range(cls): # 循环 次数\n",
        "      for i in range(len(x_train)): # 遍历每一个样本\n",
        "        h = self.sigmoid(np.dot(data_mat[i],self.weight))  # np.dot矩阵相乘\n",
        "        err = (y_train[i] - h)\n",
        "        # 随着每次更新err 下面就会更新self.weight 的向量\n",
        "        ## 这里是一次性更新了一个样本在每个特征维度上的weight\n",
        "        self.weight += self.eta*err*np.transpose([data_mat[i]]) # 一维数组转置必须加一个[]\n",
        "\n",
        "  def test(self,x_test,y_test):\n",
        "    numbers=0\n",
        "    x_test = self.data_tranforce(x_test)  # 处理每个样本的特征值加一个 1.0\n",
        "    for x,y in zip(x_test,y_test):\n",
        "      result = np.dot(x,self.weight)\n",
        "      if(result >0 and y==1) or (result < 0 and y==0):\n",
        "        numbers += 1\n",
        "    return float(numbers)/float(len(x_test))\n"
      ],
      "metadata": {
        "id": "VqPYsgCP3jT9"
      },
      "execution_count": null,
      "outputs": []
    },
    {
      "cell_type": "code",
      "source": [
        "def main():\n",
        "    load=load_iris()\n",
        "    x=load.data[:100,:2]\n",
        "    y=load.target[:100]\n",
        "    y=np.where(y==1,1,0)\n",
        "    x_train,x_test,y_train,y_test=train_test_split(x,y,test_size=0.3)\n",
        "    my_l=LogisticRegressionClassifier()\n",
        "    my_l.fit(x_train,y_train)\n",
        "    print(\"准确率：\",my_l.test(x_test,y_test))\n",
        " \n",
        "if __name__== \"__main__\":\n",
        "    main()\n",
        "\n",
        "# ————————————————\n",
        "# 版权声明：本文为CSDN博主「无尽的沉默」的原创文章，遵循CC 4.0 BY-SA版权协议，转载请附上原文出处链接及本声明。\n",
        "# 原文链接：https://blog.csdn.net/hgnuxc_1993/article/details/114680399"
      ],
      "metadata": {
        "colab": {
          "base_uri": "https://localhost:8080/"
        },
        "id": "dfr89IQkuSNe",
        "outputId": "7f57bb6e-f1e1-493e-c1e9-124eeef024d2"
      },
      "execution_count": null,
      "outputs": [
        {
          "output_type": "stream",
          "name": "stdout",
          "text": [
            "准确率： 1.0\n"
          ]
        }
      ]
    },
    {
      "cell_type": "code",
      "source": [
        ""
      ],
      "metadata": {
        "id": "yvZZ8-c_uRf7"
      },
      "execution_count": null,
      "outputs": []
    },
    {
      "cell_type": "code",
      "source": [
        "load = load_iris()"
      ],
      "metadata": {
        "id": "9JrGVLU_DWW3"
      },
      "execution_count": null,
      "outputs": []
    },
    {
      "cell_type": "code",
      "source": [
        "len(load.data)"
      ],
      "metadata": {
        "colab": {
          "base_uri": "https://localhost:8080/"
        },
        "id": "x_RcTTrVDZFS",
        "outputId": "8ed9eca3-f869-4989-ea89-d164506838ff"
      },
      "execution_count": null,
      "outputs": [
        {
          "output_type": "execute_result",
          "data": {
            "text/plain": [
              "150"
            ]
          },
          "metadata": {},
          "execution_count": 4
        }
      ]
    },
    {
      "cell_type": "code",
      "source": [
        "load.data.shape"
      ],
      "metadata": {
        "colab": {
          "base_uri": "https://localhost:8080/"
        },
        "id": "1-AA1DR_DbVt",
        "outputId": "682be086-7877-4363-f1c3-916dc5a50828"
      },
      "execution_count": null,
      "outputs": [
        {
          "output_type": "execute_result",
          "data": {
            "text/plain": [
              "(150, 4)"
            ]
          },
          "metadata": {},
          "execution_count": 5
        }
      ]
    },
    {
      "cell_type": "code",
      "source": [
        "load.data[:10]"
      ],
      "metadata": {
        "colab": {
          "base_uri": "https://localhost:8080/"
        },
        "id": "KQKgx6CSDlMr",
        "outputId": "1cba34be-cc6d-4c7e-f1c6-99985219b22b"
      },
      "execution_count": null,
      "outputs": [
        {
          "output_type": "execute_result",
          "data": {
            "text/plain": [
              "array([[5.1, 3.5, 1.4, 0.2],\n",
              "       [4.9, 3. , 1.4, 0.2],\n",
              "       [4.7, 3.2, 1.3, 0.2],\n",
              "       [4.6, 3.1, 1.5, 0.2],\n",
              "       [5. , 3.6, 1.4, 0.2],\n",
              "       [5.4, 3.9, 1.7, 0.4],\n",
              "       [4.6, 3.4, 1.4, 0.3],\n",
              "       [5. , 3.4, 1.5, 0.2],\n",
              "       [4.4, 2.9, 1.4, 0.2],\n",
              "       [4.9, 3.1, 1.5, 0.1]])"
            ]
          },
          "metadata": {},
          "execution_count": 6
        }
      ]
    },
    {
      "cell_type": "code",
      "source": [
        "load.target[:10]"
      ],
      "metadata": {
        "colab": {
          "base_uri": "https://localhost:8080/"
        },
        "id": "TK-K8fx4DrOa",
        "outputId": "277b0c08-17a9-4d14-81cb-ed4417171200"
      },
      "execution_count": null,
      "outputs": [
        {
          "output_type": "execute_result",
          "data": {
            "text/plain": [
              "array([0, 0, 0, 0, 0, 0, 0, 0, 0, 0])"
            ]
          },
          "metadata": {},
          "execution_count": 7
        }
      ]
    },
    {
      "cell_type": "code",
      "source": [
        "x = load.data[:100]\n",
        "y = load.target[:100]"
      ],
      "metadata": {
        "id": "5BfxjXE8Dzrg"
      },
      "execution_count": null,
      "outputs": []
    },
    {
      "cell_type": "code",
      "source": [
        "data=[]\n",
        "for x in load.data[:100]:\n",
        "  # print(*x)  # * 去掉 []\n",
        "  data.append([1.0,*x])\n",
        "  # print(data)\n",
        "print(shape(data)) # (sample_size,field_size)"
      ],
      "metadata": {
        "colab": {
          "base_uri": "https://localhost:8080/"
        },
        "id": "_4A0gaC8D73R",
        "outputId": "98d3c388-4e2e-4f11-a629-f5270f2970b3"
      },
      "execution_count": null,
      "outputs": [
        {
          "output_type": "stream",
          "name": "stdout",
          "text": [
            "(100, 5)\n"
          ]
        }
      ]
    },
    {
      "cell_type": "code",
      "source": [
        "y=load.target[:10]"
      ],
      "metadata": {
        "id": "H9TV-xksEBVE"
      },
      "execution_count": null,
      "outputs": []
    },
    {
      "cell_type": "code",
      "source": [
        "y[2]"
      ],
      "metadata": {
        "colab": {
          "base_uri": "https://localhost:8080/"
        },
        "id": "gZL1OkXMGgW-",
        "outputId": "f0cff388-d392-4029-9eb6-6c912251929e"
      },
      "execution_count": null,
      "outputs": [
        {
          "output_type": "execute_result",
          "data": {
            "text/plain": [
              "0"
            ]
          },
          "metadata": {},
          "execution_count": 11
        }
      ]
    },
    {
      "cell_type": "code",
      "source": [
        "np.where(load.target[:100]==1,1,0)"
      ],
      "metadata": {
        "colab": {
          "base_uri": "https://localhost:8080/"
        },
        "id": "SF9HCfDpGhbX",
        "outputId": "eb2f81a8-7ba7-4595-e150-cbcce98cca34"
      },
      "execution_count": null,
      "outputs": [
        {
          "output_type": "execute_result",
          "data": {
            "text/plain": [
              "array([0, 0, 0, 0, 0, 0, 0, 0, 0, 0, 0, 0, 0, 0, 0, 0, 0, 0, 0, 0, 0, 0,\n",
              "       0, 0, 0, 0, 0, 0, 0, 0, 0, 0, 0, 0, 0, 0, 0, 0, 0, 0, 0, 0, 0, 0,\n",
              "       0, 0, 0, 0, 0, 0, 1, 1, 1, 1, 1, 1, 1, 1, 1, 1, 1, 1, 1, 1, 1, 1,\n",
              "       1, 1, 1, 1, 1, 1, 1, 1, 1, 1, 1, 1, 1, 1, 1, 1, 1, 1, 1, 1, 1, 1,\n",
              "       1, 1, 1, 1, 1, 1, 1, 1, 1, 1, 1, 1])"
            ]
          },
          "metadata": {},
          "execution_count": 12
        }
      ]
    },
    {
      "cell_type": "code",
      "source": [
        "data[2]"
      ],
      "metadata": {
        "colab": {
          "base_uri": "https://localhost:8080/"
        },
        "id": "EWm25m9FG00D",
        "outputId": "ca2b9d9a-d4a7-4359-b760-1b61211fc5dd"
      },
      "execution_count": null,
      "outputs": [
        {
          "output_type": "execute_result",
          "data": {
            "text/plain": [
              "[1.0, 4.7, 3.2, 1.3, 0.2]"
            ]
          },
          "metadata": {},
          "execution_count": 13
        }
      ]
    },
    {
      "cell_type": "code",
      "source": [
        "shape(data)[1]"
      ],
      "metadata": {
        "colab": {
          "base_uri": "https://localhost:8080/"
        },
        "id": "ZwYwBIBfHIom",
        "outputId": "a2c75558-01eb-44f5-9ad5-eb2d20cf265a"
      },
      "execution_count": null,
      "outputs": [
        {
          "output_type": "execute_result",
          "data": {
            "text/plain": [
              "5"
            ]
          },
          "metadata": {},
          "execution_count": 15
        }
      ]
    },
    {
      "cell_type": "code",
      "source": [
        "n=shape(data)[1]"
      ],
      "metadata": {
        "id": "2TjF37qT7uVf"
      },
      "execution_count": null,
      "outputs": []
    },
    {
      "cell_type": "code",
      "source": [
        "def sigmoid(x):\n",
        "  return 1.0 / (1 + exp(-x))"
      ],
      "metadata": {
        "id": "gcmgYfg87yG5"
      },
      "execution_count": null,
      "outputs": []
    },
    {
      "cell_type": "code",
      "source": [
        "loop=30\n",
        "eta=0.1\n",
        "weight=ones((n,1)) # 初始化参数w数组\n",
        "cls = loop"
      ],
      "metadata": {
        "id": "yhxDYYcj8qiu"
      },
      "execution_count": null,
      "outputs": []
    },
    {
      "cell_type": "code",
      "source": [
        "weight"
      ],
      "metadata": {
        "colab": {
          "base_uri": "https://localhost:8080/"
        },
        "id": "TxXLlKcN8wQv",
        "outputId": "8b46cd0e-aec5-4916-eaef-b2d9a2f5b558"
      },
      "execution_count": null,
      "outputs": [
        {
          "output_type": "execute_result",
          "data": {
            "text/plain": [
              "array([[1.],\n",
              "       [1.],\n",
              "       [1.],\n",
              "       [1.],\n",
              "       [1.]])"
            ]
          },
          "metadata": {},
          "execution_count": 21
        }
      ]
    },
    {
      "cell_type": "code",
      "source": [
        "data[0]"
      ],
      "metadata": {
        "colab": {
          "base_uri": "https://localhost:8080/"
        },
        "id": "A_D0wfi681P6",
        "outputId": "bc9faab5-bd05-4860-907e-42163c0e24a6"
      },
      "execution_count": null,
      "outputs": [
        {
          "output_type": "execute_result",
          "data": {
            "text/plain": [
              "[1.0, 5.1, 3.5, 1.4, 0.2]"
            ]
          },
          "metadata": {},
          "execution_count": 22
        }
      ]
    },
    {
      "cell_type": "code",
      "source": [
        "sigmoid(np.dot(data[0],weight))"
      ],
      "metadata": {
        "colab": {
          "base_uri": "https://localhost:8080/"
        },
        "id": "xiDXycOK9aHy",
        "outputId": "02648dc5-12c0-4bb8-d2bc-924f10463cc1"
      },
      "execution_count": null,
      "outputs": [
        {
          "output_type": "execute_result",
          "data": {
            "text/plain": [
              "array([0.99998633])"
            ]
          },
          "metadata": {},
          "execution_count": 25
        }
      ]
    },
    {
      "cell_type": "code",
      "source": [
        "h = sigmoid(np.dot(data[0],weight))"
      ],
      "metadata": {
        "id": "pSLnk9uj9h88"
      },
      "execution_count": null,
      "outputs": []
    },
    {
      "cell_type": "code",
      "source": [
        "err = (y[0] - h)"
      ],
      "metadata": {
        "id": "DUhN1yqM9kHo"
      },
      "execution_count": null,
      "outputs": []
    },
    {
      "cell_type": "code",
      "source": [
        "err"
      ],
      "metadata": {
        "colab": {
          "base_uri": "https://localhost:8080/"
        },
        "id": "HZKKPVkg980W",
        "outputId": "3db5693f-d336-414f-8572-cf4087e0c56e"
      },
      "execution_count": null,
      "outputs": [
        {
          "output_type": "execute_result",
          "data": {
            "text/plain": [
              "array([-0.99998633])"
            ]
          },
          "metadata": {},
          "execution_count": 31
        }
      ]
    },
    {
      "cell_type": "code",
      "source": [
        "h = sigmoid(np.dot(data[1],weight))"
      ],
      "metadata": {
        "id": "g1QRh16Z9_SD"
      },
      "execution_count": null,
      "outputs": []
    },
    {
      "cell_type": "code",
      "source": [
        "err = (y[1] - h)"
      ],
      "metadata": {
        "id": "3G30zzXf98E7"
      },
      "execution_count": null,
      "outputs": []
    },
    {
      "cell_type": "code",
      "source": [
        "err"
      ],
      "metadata": {
        "colab": {
          "base_uri": "https://localhost:8080/"
        },
        "id": "jTZO2r3O-EKU",
        "outputId": "ee66494c-64d2-47b9-8592-c43107450a0f"
      },
      "execution_count": null,
      "outputs": [
        {
          "output_type": "execute_result",
          "data": {
            "text/plain": [
              "array([-0.99997246])"
            ]
          },
          "metadata": {},
          "execution_count": 34
        }
      ]
    },
    {
      "cell_type": "code",
      "source": [
        "np.transpose([data[0]])"
      ],
      "metadata": {
        "colab": {
          "base_uri": "https://localhost:8080/"
        },
        "id": "0rUECDsF83C-",
        "outputId": "730fce2d-cec1-4090-8d54-191ff7d248d4"
      },
      "execution_count": null,
      "outputs": [
        {
          "output_type": "execute_result",
          "data": {
            "text/plain": [
              "array([[1. ],\n",
              "       [5.1],\n",
              "       [3.5],\n",
              "       [1.4],\n",
              "       [0.2]])"
            ]
          },
          "metadata": {},
          "execution_count": 24
        }
      ]
    },
    {
      "cell_type": "code",
      "source": [
        "del err\n",
        "\n",
        "for k in range(cls): # 循环 次数\n",
        "  for i in range(len(x)): # 遍历每一个样本\n",
        "    print(i)\n",
        "    h = sigmoid(np.dot(data[i],weight))\n",
        "    err = (y[i] - h)\n",
        "    print(eta)\n",
        "    print('error')\n",
        "    print(err)\n",
        "      # 随着每次更新err 下面就会更新self.weight 的向量\n",
        "    print(np.transpose([data[i]]))\n",
        "    print(eta*err)\n",
        "    print(weight)\n",
        "    ## 这里是一次性更新了一个样本在每个特征维度上的weight\n",
        "    weight += eta*err*np.transpose([data[i]]) # 变成 1*4的数组，一维数组转置必须加一个[] ?\n",
        "    print('weight')\n",
        "    print(weight)\n",
        "    break\n",
        "  break"
      ],
      "metadata": {
        "colab": {
          "base_uri": "https://localhost:8080/"
        },
        "id": "CJ5y8Kek76w3",
        "outputId": "f57905cd-8be2-4b4b-d75f-87a5278f69ab"
      },
      "execution_count": null,
      "outputs": [
        {
          "output_type": "stream",
          "name": "stdout",
          "text": [
            "0\n",
            "0.1\n",
            "error\n",
            "[-0.00372003]\n",
            "[[1. ]\n",
            " [5.1]\n",
            " [3.5]\n",
            " [1.4]\n",
            " [0.2]]\n",
            "[-0.000372]\n",
            "[[ 0.59306113]\n",
            " [-1.07538825]\n",
            " [-0.42428605]\n",
            " [ 0.43028558]\n",
            " [ 0.91861223]]\n",
            "weight\n",
            "[[ 0.59268913]\n",
            " [-1.07728546]\n",
            " [-0.42558806]\n",
            " [ 0.42976478]\n",
            " [ 0.91853783]]\n"
          ]
        }
      ]
    },
    {
      "cell_type": "code",
      "source": [
        "print(err.shape)"
      ],
      "metadata": {
        "colab": {
          "base_uri": "https://localhost:8080/"
        },
        "id": "9i1fkFNdD6z-",
        "outputId": "bdd804a3-03b9-4c61-c2fc-7175d302d6b2"
      },
      "execution_count": null,
      "outputs": [
        {
          "output_type": "stream",
          "name": "stdout",
          "text": [
            "(1,)\n"
          ]
        }
      ]
    },
    {
      "cell_type": "code",
      "source": [
        "print(np.transpose([data[0]]).shape)"
      ],
      "metadata": {
        "colab": {
          "base_uri": "https://localhost:8080/"
        },
        "id": "MqpwdqVoFGP9",
        "outputId": "a5d450a5-da98-40ea-c462-70f8cbc8b944"
      },
      "execution_count": null,
      "outputs": [
        {
          "output_type": "stream",
          "name": "stdout",
          "text": [
            "(5, 1)\n"
          ]
        }
      ]
    },
    {
      "cell_type": "code",
      "source": [
        "eta*err"
      ],
      "metadata": {
        "colab": {
          "base_uri": "https://localhost:8080/"
        },
        "id": "I-5WDxMGFJWF",
        "outputId": "d9850dce-522d-4fef-9e80-d038146763c4"
      },
      "execution_count": null,
      "outputs": [
        {
          "output_type": "execute_result",
          "data": {
            "text/plain": [
              "array([-0.00037783])"
            ]
          },
          "metadata": {},
          "execution_count": 51
        }
      ]
    },
    {
      "cell_type": "code",
      "source": [
        "array([-0.00037783])*np.transpose(data[0])*data[0]"
      ],
      "metadata": {
        "colab": {
          "base_uri": "https://localhost:8080/"
        },
        "id": "gWFQIWqtFRxt",
        "outputId": "9c316a13-6419-4cc5-a80f-cd85f92feb57"
      },
      "execution_count": null,
      "outputs": [
        {
          "output_type": "execute_result",
          "data": {
            "text/plain": [
              "array([-3.7783000e-04, -9.8273583e-03, -4.6284175e-03, -7.4054680e-04,\n",
              "       -1.5113200e-05])"
            ]
          },
          "metadata": {},
          "execution_count": 65
        }
      ]
    },
    {
      "cell_type": "code",
      "source": [
        "eta*err*np.transpose([data[0]])"
      ],
      "metadata": {
        "colab": {
          "base_uri": "https://localhost:8080/"
        },
        "id": "xCamFEaFFW3D",
        "outputId": "fa2e9cfd-52fd-4fef-8c4e-71d3ea13f915"
      },
      "execution_count": null,
      "outputs": [
        {
          "output_type": "execute_result",
          "data": {
            "text/plain": [
              "array([[-3.72002530e-04],\n",
              "       [-1.89721290e-03],\n",
              "       [-1.30200885e-03],\n",
              "       [-5.20803542e-04],\n",
              "       [-7.44005060e-05]])"
            ]
          },
          "metadata": {},
          "execution_count": 70
        }
      ]
    },
    {
      "cell_type": "code",
      "source": [
        "data[0]"
      ],
      "metadata": {
        "colab": {
          "base_uri": "https://localhost:8080/"
        },
        "id": "W9xU2dZsGJCy",
        "outputId": "5dc6fbb0-deaf-42e6-8c7b-be5cd250ba11"
      },
      "execution_count": null,
      "outputs": [
        {
          "output_type": "execute_result",
          "data": {
            "text/plain": [
              "[1.0, 5.1, 3.5, 1.4, 0.2]"
            ]
          },
          "metadata": {},
          "execution_count": 69
        }
      ]
    },
    {
      "cell_type": "code",
      "source": [
        "data[0]*eta*err*np.transpose([data[0]])"
      ],
      "metadata": {
        "colab": {
          "base_uri": "https://localhost:8080/",
          "height": 208
        },
        "id": "qVmkfjxWURoo",
        "outputId": "0c7b0502-5314-427b-d9c7-ef012794f287"
      },
      "execution_count": null,
      "outputs": [
        {
          "output_type": "error",
          "ename": "TypeError",
          "evalue": "ignored",
          "traceback": [
            "\u001b[0;31m---------------------------------------------------------------------------\u001b[0m",
            "\u001b[0;31mTypeError\u001b[0m                                 Traceback (most recent call last)",
            "\u001b[0;32m<ipython-input-71-6a5a8ada67a5>\u001b[0m in \u001b[0;36m<module>\u001b[0;34m()\u001b[0m\n\u001b[0;32m----> 1\u001b[0;31m \u001b[0mdata\u001b[0m\u001b[0;34m[\u001b[0m\u001b[0;36m0\u001b[0m\u001b[0;34m]\u001b[0m\u001b[0;34m*\u001b[0m\u001b[0meta\u001b[0m\u001b[0;34m*\u001b[0m\u001b[0merr\u001b[0m\u001b[0;34m*\u001b[0m\u001b[0mnp\u001b[0m\u001b[0;34m.\u001b[0m\u001b[0mtranspose\u001b[0m\u001b[0;34m(\u001b[0m\u001b[0;34m[\u001b[0m\u001b[0mdata\u001b[0m\u001b[0;34m[\u001b[0m\u001b[0;36m0\u001b[0m\u001b[0;34m]\u001b[0m\u001b[0;34m]\u001b[0m\u001b[0;34m)\u001b[0m\u001b[0;34m\u001b[0m\u001b[0;34m\u001b[0m\u001b[0m\n\u001b[0m",
            "\u001b[0;31mTypeError\u001b[0m: can't multiply sequence by non-int of type 'float'"
          ]
        }
      ]
    },
    {
      "cell_type": "code",
      "source": [
        "## np.dot demo\n",
        "m = np.array([[1, 2, 3], [4, 5, 6]])       ##2X3 矩阵\n",
        "n = np.array([[1, 2], [3, 4], [5, 6]])     ##3X2 矩阵\n",
        "np.dot(m,n) # 矩阵相乘"
      ],
      "metadata": {
        "colab": {
          "base_uri": "https://localhost:8080/"
        },
        "id": "7SQCjxUOUXax",
        "outputId": "87d9ed91-6c9f-4037-cca9-9cf4966c5484"
      },
      "execution_count": null,
      "outputs": [
        {
          "output_type": "execute_result",
          "data": {
            "text/plain": [
              "array([[22, 28],\n",
              "       [49, 64]])"
            ]
          },
          "metadata": {},
          "execution_count": 80
        }
      ]
    },
    {
      "cell_type": "code",
      "source": [
        "np.matmul(m, n)"
      ],
      "metadata": {
        "colab": {
          "base_uri": "https://localhost:8080/"
        },
        "id": "ET15Z55VkLJo",
        "outputId": "1358fce5-fbac-47c4-c602-83aa5bdcbb7b"
      },
      "execution_count": null,
      "outputs": [
        {
          "output_type": "execute_result",
          "data": {
            "text/plain": [
              "array([[22, 28],\n",
              "       [49, 64]])"
            ]
          },
          "metadata": {},
          "execution_count": 81
        }
      ]
    },
    {
      "cell_type": "code",
      "source": [
        "# m*n # 报错 ValueError: operands could not be broadcast together with shapes (2,3) (3,2) \n",
        "# n*m # 报错 operands could not be broadcast together with shapes (3,2) (2,3) "
      ],
      "metadata": {
        "id": "cvbCgapEkc_0"
      },
      "execution_count": null,
      "outputs": []
    },
    {
      "cell_type": "code",
      "source": [
        "m"
      ],
      "metadata": {
        "colab": {
          "base_uri": "https://localhost:8080/"
        },
        "id": "UdjqsvSGVUh-",
        "outputId": "84cfe020-b46d-4c37-b4cb-6dd51efcb262"
      },
      "execution_count": null,
      "outputs": [
        {
          "output_type": "execute_result",
          "data": {
            "text/plain": [
              "array([[1, 2, 3],\n",
              "       [4, 5, 6]])"
            ]
          },
          "metadata": {},
          "execution_count": 73
        }
      ]
    },
    {
      "cell_type": "code",
      "source": [
        "n"
      ],
      "metadata": {
        "colab": {
          "base_uri": "https://localhost:8080/"
        },
        "id": "NZ4L86r9VbCd",
        "outputId": "1e39bfbd-08bd-44ea-deae-7be13755df57"
      },
      "execution_count": null,
      "outputs": [
        {
          "output_type": "execute_result",
          "data": {
            "text/plain": [
              "array([[1, 2],\n",
              "       [3, 4],\n",
              "       [5, 6]])"
            ]
          },
          "metadata": {},
          "execution_count": 74
        }
      ]
    },
    {
      "cell_type": "code",
      "source": [
        "np.array([[1,3,5], [2, 4,6]]).shape"
      ],
      "metadata": {
        "colab": {
          "base_uri": "https://localhost:8080/"
        },
        "id": "1HafXPGGVcQJ",
        "outputId": "b3324472-1023-45b2-9942-e66b2431afc8"
      },
      "execution_count": null,
      "outputs": [
        {
          "output_type": "execute_result",
          "data": {
            "text/plain": [
              "(2, 3)"
            ]
          },
          "metadata": {},
          "execution_count": 76
        }
      ]
    },
    {
      "cell_type": "code",
      "source": [
        "n1 = np.array([[1], [3], [5]]) \n",
        "np.dot(m,n1)"
      ],
      "metadata": {
        "colab": {
          "base_uri": "https://localhost:8080/"
        },
        "id": "VfFQOi3wZbYG",
        "outputId": "6d55d348-438a-4c3b-962b-8e6f869be9d9"
      },
      "execution_count": null,
      "outputs": [
        {
          "output_type": "execute_result",
          "data": {
            "text/plain": [
              "array([[22],\n",
              "       [49]])"
            ]
          },
          "metadata": {},
          "execution_count": 77
        }
      ]
    },
    {
      "cell_type": "code",
      "source": [
        "np.matmul(m, n)"
      ],
      "metadata": {
        "id": "1alo4jFlZyTJ"
      },
      "execution_count": null,
      "outputs": []
    },
    {
      "cell_type": "code",
      "source": [
        "x = np.array([[1,3], [2,4]])          #2X2\n",
        "print(x.shape)\n",
        "y = np.array([[[1, 1], [2, 4]]])  #1X2X2\n",
        "x * y "
      ],
      "metadata": {
        "colab": {
          "base_uri": "https://localhost:8080/"
        },
        "id": "E86AMEmQkyKq",
        "outputId": "c0adc994-8d61-4f74-e42c-919947fb0dcb"
      },
      "execution_count": null,
      "outputs": [
        {
          "output_type": "stream",
          "name": "stdout",
          "text": [
            "(2, 2)\n"
          ]
        },
        {
          "output_type": "execute_result",
          "data": {
            "text/plain": [
              "array([[[ 1,  3],\n",
              "        [ 4, 16]]])"
            ]
          },
          "metadata": {},
          "execution_count": 93
        }
      ]
    },
    {
      "cell_type": "code",
      "source": [
        "x = np.array([[1], [2]])          #2X1\n",
        "y = np.array([[[1, 1], [2, 4]]])  #1X2X2\n",
        "x * y "
      ],
      "metadata": {
        "colab": {
          "base_uri": "https://localhost:8080/"
        },
        "id": "bAs0ABziky4Y",
        "outputId": "8fc56f11-d178-43ff-c3a8-8ac23c03a122"
      },
      "execution_count": null,
      "outputs": [
        {
          "output_type": "execute_result",
          "data": {
            "text/plain": [
              "array([[[1, 1],\n",
              "        [4, 8]]])"
            ]
          },
          "metadata": {},
          "execution_count": 92
        }
      ]
    },
    {
      "cell_type": "code",
      "source": [
        ""
      ],
      "metadata": {
        "id": "cRiV4qEHk-rY"
      },
      "execution_count": null,
      "outputs": []
    }
  ]
}