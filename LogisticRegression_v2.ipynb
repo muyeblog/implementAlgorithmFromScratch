{
  "nbformat": 4,
  "nbformat_minor": 0,
  "metadata": {
    "colab": {
      "name": "LogisticRegression_v2.ipynb",
      "provenance": [],
      "collapsed_sections": [],
      "authorship_tag": "ABX9TyNpw2ag4tKIDH0KxGjdd++Y",
      "include_colab_link": true
    },
    "kernelspec": {
      "name": "python3",
      "display_name": "Python 3"
    },
    "language_info": {
      "name": "python"
    }
  },
  "cells": [
    {
      "cell_type": "markdown",
      "metadata": {
        "id": "view-in-github",
        "colab_type": "text"
      },
      "source": [
        "<a href=\"https://colab.research.google.com/github/muyeblog/implementAlgorithmFromScratch/blob/main/LogisticRegression_v2.ipynb\" target=\"_parent\"><img src=\"https://colab.research.google.com/assets/colab-badge.svg\" alt=\"Open In Colab\"/></a>"
      ]
    },
    {
      "cell_type": "code",
      "execution_count": null,
      "metadata": {
        "id": "cjccfHAKt7j9"
      },
      "outputs": [],
      "source": [
        "from math import * # 含 exp\n",
        "from sklearn.datasets import load_iris\n",
        "from sklearn.model_selection import train_test_split\n",
        "from numpy import *\n",
        "import numpy as np"
      ]
    },
    {
      "cell_type": "code",
      "source": [
        "class LogisticRegressionClassifier_v2(object):\n",
        "  def __init__(self,eta=0.1,loop=30):\n",
        "    self.eta=eta\n",
        "    self.loop=loop\n",
        "  \n",
        "  def sigmoid(self,x):\n",
        "    return 1.0/(1+exp(-x))\n",
        "  \n",
        "  def data_tranforce(self,x_train):\n",
        "    data = []\n",
        "    d = []\n",
        "    for x in x_train:\n",
        "      data.append([1.0,*x])\n",
        "    return np.array(data)\n",
        "  \n",
        "  def fit(self,x_train,y_train):\n",
        "    data_mat = self.data_tranforce(x_train)\n",
        "    n = shape(data_mat)[1]\n",
        "    m = shape(data_mat)[0]\n",
        "    self.weight = ones((n,1))\n",
        "    cls = self.loop\n",
        "    h_list = []\n",
        "    for i in range(len(x_train)):\n",
        "      h = self.sigmoid(np.dot(data_mat[i],self.weight))\n",
        "      h_list.append(h)\n",
        "    h_mat = np.array(h_list)\n",
        "    # print(h_mat.shape)\n",
        "    h_mat = h_mat.reshape(m,)\n",
        "    # print(h_mat.shape)\n",
        "    # print(y_train.shape)\n",
        "    err = y_train - h_mat\n",
        "    print(err)\n",
        "    print(err.shape)\n",
        "    print(shape(data_mat.transpose()))\n",
        "    err = err.reshape(m,1)\n",
        "    print(err)\n",
        "    print(self.weight.shape)\n",
        "    print(self.eta*np.dot(data_mat.transpose(),err))\n",
        "    self.weight += self.eta*np.dot(data_mat.transpose(),err) # 两个数组进行矩阵乘法计算使用np.dot\n",
        "  \n",
        "  def test(self,x_test,y_test):\n",
        "    numbers=0\n",
        "    x_test = self.data_tranforce(x_test)  # 处理每个样本的特征值加一个 1.0\n",
        "    for x,y in zip(x_test,y_test):\n",
        "      result = np.dot(x,self.weight)\n",
        "      if(result >0 and y==1) or (result < 0 and y==0):\n",
        "        numbers += 1\n",
        "    return float(numbers)/float(len(x_test))\n"
      ],
      "metadata": {
        "id": "yQ-JE7cKuB9v"
      },
      "execution_count": null,
      "outputs": []
    },
    {
      "cell_type": "code",
      "source": [
        ""
      ],
      "metadata": {
        "id": "aTU9KFMI9gyq"
      },
      "execution_count": null,
      "outputs": []
    },
    {
      "cell_type": "code",
      "source": [
        "def main():\n",
        "    load=load_iris()\n",
        "    x=load.data[:100,:2]\n",
        "    y=load.target[:100]\n",
        "    y=np.where(y==1,1,0)\n",
        "    x_train,x_test,y_train,y_test=train_test_split(x,y,test_size=0.3)\n",
        "    my_l=LogisticRegressionClassifier_v2()\n",
        "    my_l.fit(x_train,y_train)\n",
        "    print(\"准确率：\",my_l.test(x_test,y_test))\n",
        " \n",
        "if __name__== \"__main__\":\n",
        "    main()"
      ],
      "metadata": {
        "colab": {
          "base_uri": "https://localhost:8080/"
        },
        "id": "rOQtRzNzw2Jk",
        "outputId": "ebcf60c6-d858-4ea8-a0a4-2eb9ccecc075"
      },
      "execution_count": null,
      "outputs": [
        {
          "output_type": "stream",
          "name": "stdout",
          "text": [
            "[-9.99932276e-01  6.77241496e-05  2.48455082e-04 -9.99932276e-01\n",
            "  1.23394576e-04  2.75356911e-05  1.36370327e-04  7.48462275e-05\n",
            "  9.14158739e-05  6.77241496e-05  1.36370327e-04  5.01721647e-05\n",
            " -9.99979601e-01  5.01721647e-05 -9.99898971e-01 -9.99925154e-01\n",
            " -9.99917283e-01  5.01721647e-05  5.54485247e-05 -9.99849290e-01\n",
            " -9.99876605e-01  3.36319640e-05  5.01721647e-05 -9.99966368e-01\n",
            "  3.04315569e-05  2.03990873e-05 -9.99917283e-01  2.49153889e-05\n",
            " -9.99898971e-01  4.10778678e-05  1.01029194e-04  3.35350130e-04\n",
            " -9.99751545e-01  1.84071905e-04  4.10778678e-05  7.48462275e-05\n",
            " -9.99954602e-01 -9.99972464e-01 -9.99949828e-01  4.53978687e-05\n",
            " -9.99908584e-01 -9.99849290e-01 -9.99944551e-01  6.12797396e-05\n",
            " -9.99932276e-01 -9.99833442e-01 -9.99925154e-01  1.67014218e-05\n",
            "  2.49153889e-05  1.11653341e-04 -9.99949828e-01  4.10778678e-05\n",
            " -9.99958922e-01 -9.99876605e-01  1.50710358e-04 -9.99944551e-01\n",
            " -9.99917283e-01 -9.99925154e-01  6.77241496e-05 -9.99751545e-01\n",
            " -9.99966368e-01  7.48462275e-05 -9.99898971e-01  1.36370327e-04\n",
            "  7.48462275e-05 -9.99932276e-01 -9.99815928e-01  3.36319640e-05\n",
            "  8.27172229e-05 -9.99898971e-01]\n",
            "(70,)\n",
            "(3, 70)\n",
            "[[-9.99932276e-01]\n",
            " [ 6.77241496e-05]\n",
            " [ 2.48455082e-04]\n",
            " [-9.99932276e-01]\n",
            " [ 1.23394576e-04]\n",
            " [ 2.75356911e-05]\n",
            " [ 1.36370327e-04]\n",
            " [ 7.48462275e-05]\n",
            " [ 9.14158739e-05]\n",
            " [ 6.77241496e-05]\n",
            " [ 1.36370327e-04]\n",
            " [ 5.01721647e-05]\n",
            " [-9.99979601e-01]\n",
            " [ 5.01721647e-05]\n",
            " [-9.99898971e-01]\n",
            " [-9.99925154e-01]\n",
            " [-9.99917283e-01]\n",
            " [ 5.01721647e-05]\n",
            " [ 5.54485247e-05]\n",
            " [-9.99849290e-01]\n",
            " [-9.99876605e-01]\n",
            " [ 3.36319640e-05]\n",
            " [ 5.01721647e-05]\n",
            " [-9.99966368e-01]\n",
            " [ 3.04315569e-05]\n",
            " [ 2.03990873e-05]\n",
            " [-9.99917283e-01]\n",
            " [ 2.49153889e-05]\n",
            " [-9.99898971e-01]\n",
            " [ 4.10778678e-05]\n",
            " [ 1.01029194e-04]\n",
            " [ 3.35350130e-04]\n",
            " [-9.99751545e-01]\n",
            " [ 1.84071905e-04]\n",
            " [ 4.10778678e-05]\n",
            " [ 7.48462275e-05]\n",
            " [-9.99954602e-01]\n",
            " [-9.99972464e-01]\n",
            " [-9.99949828e-01]\n",
            " [ 4.53978687e-05]\n",
            " [-9.99908584e-01]\n",
            " [-9.99849290e-01]\n",
            " [-9.99944551e-01]\n",
            " [ 6.12797396e-05]\n",
            " [-9.99932276e-01]\n",
            " [-9.99833442e-01]\n",
            " [-9.99925154e-01]\n",
            " [ 1.67014218e-05]\n",
            " [ 2.49153889e-05]\n",
            " [ 1.11653341e-04]\n",
            " [-9.99949828e-01]\n",
            " [ 4.10778678e-05]\n",
            " [-9.99958922e-01]\n",
            " [-9.99876605e-01]\n",
            " [ 1.50710358e-04]\n",
            " [-9.99944551e-01]\n",
            " [-9.99917283e-01]\n",
            " [-9.99925154e-01]\n",
            " [ 6.77241496e-05]\n",
            " [-9.99751545e-01]\n",
            " [-9.99966368e-01]\n",
            " [ 7.48462275e-05]\n",
            " [-9.99898971e-01]\n",
            " [ 1.36370327e-04]\n",
            " [ 7.48462275e-05]\n",
            " [-9.99932276e-01]\n",
            " [-9.99815928e-01]\n",
            " [ 3.36319640e-05]\n",
            " [ 8.27172229e-05]\n",
            " [-9.99898971e-01]]\n",
            "(3, 1)\n",
            "[[ -3.29939135]\n",
            " [-16.56682021]\n",
            " [-11.3382241 ]]\n",
            "准确率： 0.5666666666666667\n"
          ]
        }
      ]
    },
    {
      "cell_type": "code",
      "source": [
        ""
      ],
      "metadata": {
        "id": "p6oqZfG1w3UY"
      },
      "execution_count": null,
      "outputs": []
    },
    {
      "cell_type": "code",
      "source": [
        ""
      ],
      "metadata": {
        "id": "IJ8VbYdmmtut"
      },
      "execution_count": null,
      "outputs": []
    },
    {
      "cell_type": "code",
      "source": [
        "# 2-D array: 2 x 3\n",
        "two_dim_matrix_one = np.array([[1, 2, 3], [4, 5, 6]])\n",
        "# 2-D array: 3 x 2\n",
        "two_dim_matrix_two = np.array([[1, 2], [3, 4], [5, 6]])\n",
        "\n",
        "two_multi_res = np.dot(two_dim_matrix_one, two_dim_matrix_two)\n",
        "print('two_multi_res: %s' %(two_multi_res))\n",
        "# ————————————————\n",
        "# 版权声明：本文为CSDN博主「cltdevelop」的原创文章，遵循CC 4.0 BY-SA版权协议，转载请附上原文出处链接及本声明。\n",
        "# 原文链接：https://blog.csdn.net/u012609509/article/details/70230204"
      ],
      "metadata": {
        "colab": {
          "base_uri": "https://localhost:8080/"
        },
        "id": "wwHqXbDVmuXZ",
        "outputId": "210fe0c3-7eee-4ed1-d103-632a28f4f1d0"
      },
      "execution_count": null,
      "outputs": [
        {
          "output_type": "stream",
          "name": "stdout",
          "text": [
            "two_multi_res: [[22 28]\n",
            " [49 64]]\n"
          ]
        }
      ]
    },
    {
      "cell_type": "code",
      "source": [
        ""
      ],
      "metadata": {
        "id": "T0X5TmQknRXm"
      },
      "execution_count": null,
      "outputs": []
    },
    {
      "cell_type": "code",
      "source": [
        "# 2-D array: 2 x 3\n",
        "two_dim_matrix_one = np.mat([[1, 2, 3], [4, 5, 6]])\n",
        "# 2-D array: 3 x 2\n",
        "two_dim_matrix_two = np.mat([[1, 2], [3, 4], [5, 6]])\n"
      ],
      "metadata": {
        "id": "vNdpxuoqmufs"
      },
      "execution_count": null,
      "outputs": []
    },
    {
      "cell_type": "code",
      "source": [
        "two_dim_matrix_one"
      ],
      "metadata": {
        "colab": {
          "base_uri": "https://localhost:8080/"
        },
        "id": "9_mJtPxLnTNq",
        "outputId": "635138b7-df61-4297-993a-d1c7e38e01f9"
      },
      "execution_count": null,
      "outputs": [
        {
          "output_type": "execute_result",
          "data": {
            "text/plain": [
              "matrix([[1, 2, 3],\n",
              "        [4, 5, 6]])"
            ]
          },
          "metadata": {},
          "execution_count": 48
        }
      ]
    },
    {
      "cell_type": "code",
      "source": [
        "two_dim_matrix_two"
      ],
      "metadata": {
        "colab": {
          "base_uri": "https://localhost:8080/"
        },
        "id": "6IXHTSBMnWy4",
        "outputId": "f7effeb8-6bde-4cfc-899a-8b48290dbccf"
      },
      "execution_count": null,
      "outputs": [
        {
          "output_type": "execute_result",
          "data": {
            "text/plain": [
              "matrix([[1, 2],\n",
              "        [3, 4],\n",
              "        [5, 6]])"
            ]
          },
          "metadata": {},
          "execution_count": 49
        }
      ]
    },
    {
      "cell_type": "code",
      "source": [
        "\n",
        "two_multi_res = np.dot(two_dim_matrix_one, two_dim_matrix_two)\n",
        "print('two_multi_res: %s' %(two_multi_res))\n",
        "print('two_dim_matrix_one*two_dim_matrix_two: %s' % (two_dim_matrix_one*two_dim_matrix_two))\n",
        "# ————————————————\n",
        "# 版权声明：本文为CSDN博主「cltdevelop」的原创文章，遵循CC 4.0 BY-SA版权协议，转载请附上原文出处链接及本声明。\n",
        "# 原文链接：https://blog.csdn.net/u012609509/article/details/70230204"
      ],
      "metadata": {
        "colab": {
          "base_uri": "https://localhost:8080/"
        },
        "id": "xv80w8Z0nSWy",
        "outputId": "5b284244-8b53-4bcc-d208-ca72aa057f21"
      },
      "execution_count": null,
      "outputs": [
        {
          "output_type": "stream",
          "name": "stdout",
          "text": [
            "two_multi_res: [[22 28]\n",
            " [49 64]]\n",
            "two_dim_matrix_one*two_dim_matrix_two: [[22 28]\n",
            " [49 64]]\n"
          ]
        }
      ]
    },
    {
      "cell_type": "code",
      "source": [
        "two_dim_matrix_one*two_dim_matrix_two"
      ],
      "metadata": {
        "colab": {
          "base_uri": "https://localhost:8080/"
        },
        "id": "0C1K3q_6namk",
        "outputId": "e23c50b4-5a3a-4861-e6af-e2a54d3c4e78"
      },
      "execution_count": null,
      "outputs": [
        {
          "output_type": "execute_result",
          "data": {
            "text/plain": [
              "matrix([[22, 28],\n",
              "        [49, 64]])"
            ]
          },
          "metadata": {},
          "execution_count": 45
        }
      ]
    },
    {
      "cell_type": "code",
      "source": [
        ""
      ],
      "metadata": {
        "id": "r6chLjRznR7t"
      },
      "execution_count": null,
      "outputs": []
    },
    {
      "cell_type": "code",
      "source": [
        "## 矩阵乘法\n",
        "two_dim_matrix_one = np.array([[1, 2, 3], [4, 5, 6]])\n",
        "another_two_dim_matrix_one = np.array([[7, 8, 9], [4, 7, 1]])"
      ],
      "metadata": {
        "id": "KNFIuYhQmunU"
      },
      "execution_count": null,
      "outputs": []
    },
    {
      "cell_type": "code",
      "source": [
        "two_dim_matrix_one"
      ],
      "metadata": {
        "colab": {
          "base_uri": "https://localhost:8080/"
        },
        "id": "wmfugnLWm3S8",
        "outputId": "34cf3778-2d98-4850-cf31-71d07bf3740e"
      },
      "execution_count": null,
      "outputs": [
        {
          "output_type": "execute_result",
          "data": {
            "text/plain": [
              "array([[1, 2, 3],\n",
              "       [4, 5, 6]])"
            ]
          },
          "metadata": {},
          "execution_count": 38
        }
      ]
    },
    {
      "cell_type": "code",
      "source": [
        "another_two_dim_matrix_one"
      ],
      "metadata": {
        "colab": {
          "base_uri": "https://localhost:8080/"
        },
        "id": "Ap8dxenHm4jC",
        "outputId": "2b8c6eb5-6d45-46df-d318-deb1aac9d3cc"
      },
      "execution_count": null,
      "outputs": [
        {
          "output_type": "execute_result",
          "data": {
            "text/plain": [
              "array([[7, 8, 9],\n",
              "       [4, 7, 1]])"
            ]
          },
          "metadata": {},
          "execution_count": 39
        }
      ]
    },
    {
      "cell_type": "code",
      "source": [
        "# 对应元素相乘 element-wise product\n",
        "element_wise = two_dim_matrix_one * another_two_dim_matrix_one\n",
        "print('element wise product: %s' %(element_wise))\n",
        "# ————————————————\n",
        "# 版权声明：本文为CSDN博主「cltdevelop」的原创文章，遵循CC 4.0 BY-SA版权协议，转载请附上原文出处链接及本声明。\n",
        "# 原文链接：https://blog.csdn.net/u012609509/article/details/70230204"
      ],
      "metadata": {
        "colab": {
          "base_uri": "https://localhost:8080/"
        },
        "id": "3P9p7qQLmxIa",
        "outputId": "822ab60b-cfd1-44de-f972-498a9997fbc7"
      },
      "execution_count": null,
      "outputs": [
        {
          "output_type": "stream",
          "name": "stdout",
          "text": [
            "element wise product: [[ 7 16 27]\n",
            " [16 35  6]]\n"
          ]
        }
      ]
    },
    {
      "cell_type": "code",
      "source": [
        ""
      ],
      "metadata": {
        "id": "lmlp5OB8m1aV"
      },
      "execution_count": null,
      "outputs": []
    }
  ]
}